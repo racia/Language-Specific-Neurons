{
 "cells": [
  {
   "cell_type": "code",
   "execution_count": 3,
   "id": "de2755f0-d81e-4693-9586-fc24fd1c116b",
   "metadata": {},
   "outputs": [
    {
     "name": "stderr",
     "output_type": "stream",
     "text": [
      "[nltk_data] Downloading package stopwords to\n",
      "[nltk_data]     /home/hd/hd_hd/hd_ea226/nltk_data...\n",
      "[nltk_data]   Package stopwords is already up-to-date!\n"
     ]
    }
   ],
   "source": [
    "import nltk\n",
    "nltk.download(\"stopwords\")\n",
    "from nltk.corpus import stopwords\n",
    "\n",
    "def switch(language):\n",
    "    if lang == \"de\":\n",
    "        language = \"german\"\n",
    "    elif lang == \"en\":\n",
    "        language = \"english\"\n",
    "    else:\n",
    "        language = \"turkish\"\n",
    "    return stopwords.words(language)"
   ]
  },
  {
   "cell_type": "code",
   "execution_count": 4,
   "id": "c7a4fcac-5ece-4124-b950-2262425c0f38",
   "metadata": {
    "scrolled": true
   },
   "outputs": [],
   "source": [
    "import os\n",
    "import json\n",
    "import re\n",
    "from statistics import mean\n",
    "#os.chdir(\"Language-Specific-Neurons\")"
   ]
  },
  {
   "cell_type": "code",
   "execution_count": 11,
   "id": "c23054df-3e06-44b3-ad7b-6f27dc509487",
   "metadata": {
    "scrolled": true
   },
   "outputs": [
    {
     "name": "stdout",
     "output_type": "stream",
     "text": [
      "('en', 'en')\n",
      "('en', 'de')\n",
      "('en', 'tr')\n",
      "('de', 'en')\n",
      "('de', 'de')\n",
      "('de', 'tr')\n",
      "('tr', 'en')\n",
      "('tr', 'de')\n",
      "('tr', 'tr')\n",
      "('en', 'en')\n",
      "('en', 'de')\n",
      "('en', 'tr')\n",
      "('de', 'en')\n",
      "('de', 'de')\n",
      "('de', 'tr')\n",
      "('tr', 'en')\n",
      "('tr', 'de')\n",
      "('tr', 'tr')\n",
      "('en', 'en')\n",
      "('en', 'de')\n",
      "('en', 'tr')\n",
      "('de', 'en')\n",
      "('de', 'de')\n",
      "('de', 'tr')\n",
      "('tr', 'en')\n",
      "('tr', 'de')\n",
      "('tr', 'tr')\n",
      "('en', 'en')\n",
      "('en', 'de')\n",
      "('en', 'tr')\n",
      "('de', 'en')\n",
      "('de', 'de')\n",
      "('de', 'tr')\n",
      "('tr', 'en')\n",
      "('tr', 'de')\n",
      "('tr', 'tr')\n"
     ]
    }
   ],
   "source": [
    "langs = [\"en\", \"de\", \"tr\"]\n",
    "stats = {}\n",
    "\n",
    "for pertb in [\"perturb\", \"\"]:\n",
    "    for model in [\"Llama-2-7b-hf\", \"mGPT\"]:\n",
    "        m_type = \"llama-7b\" if \"Llama\" in model else \"gpt\"\n",
    "        stats[m_type] = {} if pertb else stats[m_type]\n",
    "        for (lang, lang2) in [(l,l2) for l in langs for l2 in langs]:\n",
    "            print((lang,lang2))\n",
    "            if pertb:\n",
    "                stats[m_type][(lang,lang2)] = []\n",
    "            else:\n",
    "                stats[m_type][lang] = []\n",
    "            path = f\"results/{model}/mvicuna/{lang}.{pertb}.{lang2}.train.{m_type}\" if pertb else f\"results/{model}/mvicuna/{lang}\"\n",
    "            with open(f\"{path}.jsonl\") as f:\n",
    "                model_data = json.load(f)\n",
    "            model_outputs = [sample[\"output\"] for sample in model_data]\n",
    "            output_lengths = [len(output) for output in model_outputs]\n",
    "            stop_words = switch(lang)\n",
    "            # print(\"Stop words: \", stop_words[:2], \"for lang: \", lang)\n",
    "            #print(model_outputs[:1])\n",
    "            stopword_counts = [wrd in stop_words for seq in model_outputs for wrd in seq.split()]\n",
    "            if pertb:\n",
    "                stats[m_type][(lang,lang2)].append((\"Average output length\", round(mean(output_lengths), 3)))\n",
    "                stats[m_type][(lang,lang2)].append((\"Stop word ratio\", round(mean(stopword_counts), 3)))\n",
    "            else:\n",
    "                stats[m_type][lang].append((\"Average output length\", round(mean(output_lengths), 3)))\n",
    "                stats[m_type][lang].append((\"Stop word ratio\", round(mean(stopword_counts), 3)))\n",
    "                # stats[m_type][lang]"
   ]
  },
  {
   "cell_type": "code",
   "execution_count": 12,
   "id": "6a1d87a9-04dc-4a6d-995a-48cda6658282",
   "metadata": {},
   "outputs": [
    {
     "name": "stdout",
     "output_type": "stream",
     "text": [
      "Llama-7b\n",
      " ('en', 'en'): [('Average output length', 940.629), ('Stop word ratio', 0.39)]\n",
      "('en', 'de'): [('Average output length', 1345.214), ('Stop word ratio', 0.432)]\n",
      "('en', 'tr'): [('Average output length', 1569.071), ('Stop word ratio', 0.316)]\n",
      "('de', 'en'): [('Average output length', 1252.457), ('Stop word ratio', 0.195)]\n",
      "('de', 'de'): [('Average output length', 1295.4), ('Stop word ratio', 0.205)]\n",
      "('de', 'tr'): [('Average output length', 833.957), ('Stop word ratio', 0.102)]\n",
      "('tr', 'en'): [('Average output length', 536.686), ('Stop word ratio', 0.029)]\n",
      "('tr', 'de'): [('Average output length', 314.014), ('Stop word ratio', 0.002)]\n",
      "('tr', 'tr'): [('Average output length', 453.4), ('Stop word ratio', 0.003)]\n",
      "en: [('Average output length', 780.6), ('Stop word ratio', 0.408)]\n",
      "de: [('Average output length', 1327.3), ('Stop word ratio', 0.203)]\n",
      "tr: [('Average output length', 471.114), ('Stop word ratio', 0.008)]\n",
      "gpt\n",
      " ('en', 'en'): [('Average output length', 953.471), ('Stop word ratio', 0.366)]\n",
      "('en', 'de'): [('Average output length', 953.471), ('Stop word ratio', 0.366)]\n",
      "('en', 'tr'): [('Average output length', 953.471), ('Stop word ratio', 0.366)]\n",
      "('de', 'en'): [('Average output length', 874.357), ('Stop word ratio', 0.396)]\n",
      "('de', 'de'): [('Average output length', 874.357), ('Stop word ratio', 0.396)]\n",
      "('de', 'tr'): [('Average output length', 874.357), ('Stop word ratio', 0.396)]\n",
      "('tr', 'en'): [('Average output length', 1007.143), ('Stop word ratio', 0.112)]\n",
      "('tr', 'de'): [('Average output length', 1007.143), ('Stop word ratio', 0.112)]\n",
      "('tr', 'tr'): [('Average output length', 1007.143), ('Stop word ratio', 0.112)]\n",
      "en: [('Average output length', 953.471), ('Stop word ratio', 0.366)]\n",
      "de: [('Average output length', 874.357), ('Stop word ratio', 0.396)]\n",
      "tr: [('Average output length', 1007.143), ('Stop word ratio', 0.112)]\n"
     ]
    }
   ],
   "source": [
    "print(\"Llama-7b\\n\", \"\\n\".join(f\"{lang}: {stat}\" for lang, stat in stats[\"llama-7b\"].items()))\n",
    "print(\"gpt\\n\", \"\\n\".join(f\"{lang}: {stat}\" for lang, stat in stats[\"gpt\"].items()))"
   ]
  },
  {
   "cell_type": "code",
   "execution_count": null,
   "id": "dd9e1c3a-da15-44c5-bd72-07323ad7e46b",
   "metadata": {},
   "outputs": [],
   "source": []
  }
 ],
 "metadata": {
  "kernelspec": {
   "display_name": "Python 3 (ipykernel)",
   "language": "python",
   "name": "python3"
  },
  "language_info": {
   "codemirror_mode": {
    "name": "ipython",
    "version": 3
   },
   "file_extension": ".py",
   "mimetype": "text/x-python",
   "name": "python",
   "nbconvert_exporter": "python",
   "pygments_lexer": "ipython3",
   "version": "3.11.7"
  }
 },
 "nbformat": 4,
 "nbformat_minor": 5
}
